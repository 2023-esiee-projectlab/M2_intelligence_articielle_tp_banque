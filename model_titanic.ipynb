{
 "cells": [
  {
   "cell_type": "markdown",
   "id": "d694e52f-5693-4a6a-96a0-1d61c4a7450c",
   "metadata": {},
   "source": [
    "# Modèle - Titanic"
   ]
  },
  {
   "cell_type": "markdown",
   "id": "e9c38dc0-f4a2-4395-9616-2620bb63b726",
   "metadata": {},
   "source": [
    "- Connaitre le path du fichier"
   ]
  },
  {
   "cell_type": "code",
   "execution_count": null,
   "id": "bcf13386-dce8-4044-9df4-789f8b98d8de",
   "metadata": {},
   "outputs": [],
   "source": [
    "!pwd"
   ]
  },
  {
   "cell_type": "markdown",
   "id": "ad264e5c-9071-4dd4-941c-6dd9f152e3df",
   "metadata": {},
   "source": [
    "- Importation de la librairie Pandas"
   ]
  },
  {
   "cell_type": "code",
   "execution_count": null,
   "id": "0b085bf5-00a9-4f7d-af90-ba8f3be0c83f",
   "metadata": {},
   "outputs": [],
   "source": [
    "import pandas as pd"
   ]
  },
  {
   "cell_type": "markdown",
   "id": "71c09a03-95c9-464a-af6f-e9ef96bfcd7c",
   "metadata": {},
   "source": [
    "- Importation des données"
   ]
  },
  {
   "cell_type": "code",
   "execution_count": null,
   "id": "882a09d9-d768-4da2-8144-21c950a04ef8",
   "metadata": {},
   "outputs": [],
   "source": [
    "df = pd.read_csv('datas/titanic/train.csv')"
   ]
  },
  {
   "cell_type": "markdown",
   "id": "8a0b9179-9c12-40b8-a3b0-4d6e8014eeae",
   "metadata": {},
   "source": [
    "- Afficher le tableau de données"
   ]
  },
  {
   "cell_type": "code",
   "execution_count": null,
   "id": "78f12a1e-1d46-4ab5-826b-33e39a1999d0",
   "metadata": {},
   "outputs": [],
   "source": [
    "df.head()"
   ]
  },
  {
   "cell_type": "markdown",
   "id": "6cbab53e-e5d0-4dfb-90f7-087fb5401a1a",
   "metadata": {},
   "source": [
    "- Vérifier les valeur null"
   ]
  },
  {
   "cell_type": "code",
   "execution_count": null,
   "id": "a415024b-6594-4fcc-b5f9-29cc2523f6e1",
   "metadata": {},
   "outputs": [],
   "source": [
    "df.isnull()"
   ]
  },
  {
   "cell_type": "markdown",
   "id": "08713807-8277-4acb-9887-9dff7190b3cf",
   "metadata": {},
   "source": [
    "- Afficher les types de données du tableau"
   ]
  },
  {
   "cell_type": "code",
   "execution_count": null,
   "id": "7cd272b2-8485-4be8-a982-484794c22dfd",
   "metadata": {},
   "outputs": [],
   "source": [
    "df.dtypes"
   ]
  },
  {
   "cell_type": "markdown",
   "id": "641bfcec-a212-4783-8d42-0f0c5ce2258b",
   "metadata": {},
   "source": [
    "- Changer le type d'une colonne"
   ]
  },
  {
   "cell_type": "code",
   "execution_count": null,
   "id": "a3a3f547-0aed-4be6-8f8e-771bf3e003db",
   "metadata": {},
   "outputs": [],
   "source": [
    "df[\"Fare\"] = pd.to_numeric(df[\"Fare\"])\n",
    "df.dtypes"
   ]
  },
  {
   "cell_type": "markdown",
   "id": "730581e5-c1c6-412e-8726-9dc9c09eb058",
   "metadata": {},
   "source": [
    "- Nettoyage des données"
   ]
  },
  {
   "cell_type": "code",
   "execution_count": null,
   "id": "831b2a0d-fc84-46bf-8f97-d9d5ed800d6a",
   "metadata": {},
   "outputs": [],
   "source": [
    "df1 = df.drop(['Name','Ticket','Cabin','PassengerId','Embarked'],axis = 1)\n",
    "# df.drop([\"Name\",\"Sex\",\"Ticket\",\"Cabin\",\"Embarked\"], axis=1, inplace=True)"
   ]
  },
  {
   "cell_type": "markdown",
   "id": "bc54b6af-1508-4111-861b-823d2ff6d360",
   "metadata": {},
   "source": [
    "- Rassembler 2 colonnes"
   ]
  },
  {
   "cell_type": "code",
   "execution_count": null,
   "id": "806318fb-798e-4fb2-9a3c-8099dd75aa7e",
   "metadata": {},
   "outputs": [],
   "source": [
    "pd.concat([pd.DataFrame(df.dtypes), pd.DataFrame(df.isnull().sum())], axis=1)"
   ]
  },
  {
   "cell_type": "markdown",
   "id": "e984a956-5508-433d-9f79-63ae201d42bf",
   "metadata": {},
   "source": [
    "- Génération du model"
   ]
  },
  {
   "cell_type": "code",
   "execution_count": null,
   "id": "7125a3fa-b082-4217-97ad-6316e133ff74",
   "metadata": {},
   "outputs": [],
   "source": [
    "from sklearn.model_selection import train_test_split"
   ]
  },
  {
   "cell_type": "code",
   "execution_count": null,
   "id": "babedfd5-de48-4632-b10a-2e05da7e1245",
   "metadata": {},
   "outputs": [],
   "source": [
    "df1['Sex'] = df['Sex'].map({'male': 1, 'female': 0})\n",
    "df1"
   ]
  },
  {
   "cell_type": "code",
   "execution_count": null,
   "id": "32e69a34-f365-4469-bd8c-ee00fc3d0fde",
   "metadata": {},
   "outputs": [],
   "source": [
    "df2=df1.dropna()\n",
    "df2"
   ]
  },
  {
   "cell_type": "markdown",
   "id": "0fd1f0bb-84a2-4dfd-a10f-c3f6d443ab87",
   "metadata": {},
   "source": [
    "- Affichage de chaque types de données"
   ]
  },
  {
   "cell_type": "code",
   "execution_count": null,
   "id": "e43cecc8-235a-4490-b94a-5df9a60ae8de",
   "metadata": {},
   "outputs": [],
   "source": [
    "df2.dtypes"
   ]
  },
  {
   "cell_type": "code",
   "execution_count": null,
   "id": "18cbe88f-1f68-4b8c-8a66-081c76bce52f",
   "metadata": {},
   "outputs": [],
   "source": [
    "y = df2.Survived\n",
    "x = df2.drop(['Survived'], axis = 1)\n",
    "\n",
    "x_train,x_test, y_train, y_test = train_test_split(x,y,test_size = .2, random_state = 42)"
   ]
  },
  {
   "cell_type": "code",
   "execution_count": null,
   "id": "1b5bebc3-4d15-4241-bc51-3b6275fa128f",
   "metadata": {},
   "outputs": [],
   "source": [
    "print (x_train.shape,x_test.shape)\n",
    "print (df2.shape)"
   ]
  },
  {
   "cell_type": "code",
   "execution_count": null,
   "id": "6c32f295-62bb-49f4-a04b-9b43e9538203",
   "metadata": {},
   "outputs": [],
   "source": [
    "print (y_train.sample(10))"
   ]
  },
  {
   "cell_type": "markdown",
   "id": "c9c559c9-700f-4a63-aed3-e9668a101065",
   "metadata": {},
   "source": [
    "- Importation de la forêt aléatoire avec sélection d'arbres basée sur Monte Carlo (RF-TSMC)\n",
    "- Cela consiste à utiliser l'approche Random Forest pour la classification multiclasse en utilisant une sélection d'arbre dynamique basée sur Monte Carlo."
   ]
  },
  {
   "cell_type": "code",
   "execution_count": null,
   "id": "4e8c1a38-151d-4251-bab9-02c2953b1984",
   "metadata": {},
   "outputs": [],
   "source": [
    "from sklearn.ensemble import RandomForestClassifier"
   ]
  },
  {
   "cell_type": "markdown",
   "id": "0b065c0f-490c-499c-a38a-d530b749557d",
   "metadata": {},
   "source": [
    "- Création d'un premier modèle :\n",
    "    - n_estimators = nombre d'arbres\n",
    "    - random_state = le hazard à 23\n",
    "    - max_features = le nombre de colonne sélectionner par itération au hazard"
   ]
  },
  {
   "cell_type": "code",
   "execution_count": null,
   "id": "2b6d5f15-053a-486b-b893-a7f287175ca5",
   "metadata": {},
   "outputs": [],
   "source": [
    "rf = RandomForestClassifier(n_estimators = 100, random_state = 23, max_features = 2)"
   ]
  },
  {
   "cell_type": "code",
   "execution_count": null,
   "id": "c411744f-a76a-4d6a-a592-7698bda1ebe5",
   "metadata": {},
   "outputs": [],
   "source": [
    "rf.fit(X=x_train, y=y_train)"
   ]
  },
  {
   "cell_type": "code",
   "execution_count": null,
   "id": "86ac61b9-189a-4e59-b02b-1d2e4074ad0d",
   "metadata": {},
   "outputs": [],
   "source": [
    "#Train value\n",
    "print ('train : ')\n",
    "print (rf.score(x_train,y_train))\n",
    "\n",
    "#Test value\n",
    "print ('test : ')\n",
    "print(rf.score(x_test,y_test))"
   ]
  },
  {
   "cell_type": "code",
   "execution_count": null,
   "id": "066afe54-e9cb-4fcf-b578-d82710ba7786",
   "metadata": {},
   "outputs": [],
   "source": [
    "def print_score(learn_obj, x_train=x_train, y_train=y_train, x_test=x_test, y_test=y_test):\n",
    "\tprint(\"Score train : \", learn_obj.score(x_train, y_train,)*100, \"%\")\n",
    "\tprint(\"Score test : \", learn_obj.score(x_test, y_test,)*100, \"%\")\n",
    "\n",
    "print_score(rf)"
   ]
  },
  {
   "cell_type": "markdown",
   "id": "e5c05e52-a681-4809-8914-579058cc3f32",
   "metadata": {},
   "source": [
    "# Explicabilité"
   ]
  },
  {
   "cell_type": "markdown",
   "id": "6ecbd333-4028-47b4-aa8b-987bf5a767ac",
   "metadata": {},
   "source": [
    "- Chaque colonne elle prend en compte à 8% Pclass, 25% le Sex etc, ainsi c'est l'importance des données en entrer "
   ]
  },
  {
   "cell_type": "code",
   "execution_count": null,
   "id": "8a29377b-51a8-4f04-a4be-47bc1c0fd6fa",
   "metadata": {},
   "outputs": [],
   "source": [
    "pd.DataFrame(rf.feature_importances_*100,x_train.columns, columns=['Importance en %'])\n",
    "\n",
    "#pd.DataFrame(rf.feature_importances_, x_train.columns)"
   ]
  },
  {
   "cell_type": "markdown",
   "id": "0e4ce210-8679-428f-87ac-169d064e3200",
   "metadata": {},
   "source": [
    "- Importation de SHAP :\n",
    "    - SHAP (SHapley Additive exPlanations) est une approche unifiée pour expliquer la sortie de tout modèle d'apprentissage automatique."
   ]
  },
  {
   "cell_type": "code",
   "execution_count": null,
   "id": "44874aa1-d591-4958-89b3-cad11446fde1",
   "metadata": {},
   "outputs": [],
   "source": [
    "import shap"
   ]
  },
  {
   "cell_type": "code",
   "execution_count": null,
   "id": "87627bff-5104-467d-a441-c7c56a9c1a0d",
   "metadata": {},
   "outputs": [],
   "source": [
    "shpv = shap.TreeExplainer(rf).shap_values(x_train)"
   ]
  },
  {
   "cell_type": "code",
   "execution_count": null,
   "id": "ad75a758-c271-4096-81d2-4b8db658810e",
   "metadata": {},
   "outputs": [],
   "source": [
    "shap.summary_plot(shpv, x_train)"
   ]
  },
  {
   "cell_type": "markdown",
   "id": "6fe0e4dd-b211-46d7-9d05-df10f537a40a",
   "metadata": {},
   "source": [
    "# Viz"
   ]
  },
  {
   "cell_type": "markdown",
   "id": "adcc5992-9b75-4311-9526-02b61951fb6a",
   "metadata": {},
   "source": [
    "- Importation du générateur de rapport de profile"
   ]
  },
  {
   "cell_type": "code",
   "execution_count": null,
   "id": "8e6107eb-d270-4df4-98f6-91bf48dec004",
   "metadata": {},
   "outputs": [],
   "source": [
    "from pandas_profiling import ProfileReport"
   ]
  },
  {
   "cell_type": "markdown",
   "id": "4dfc0dec-a2e0-4756-b7e2-6234112619d9",
   "metadata": {},
   "source": [
    "- Génèrer un rapport de profil à partir d'un pandas des données"
   ]
  },
  {
   "cell_type": "code",
   "execution_count": null,
   "id": "a10be92f-ecf3-40e1-8184-828fe45962ce",
   "metadata": {},
   "outputs": [],
   "source": [
    "profile = ProfileReport(df)"
   ]
  },
  {
   "cell_type": "markdown",
   "id": "9706cdd1-7513-466d-acac-882fa3df43a3",
   "metadata": {},
   "source": [
    "- Afficher un rapport de profil d'un pandas des données"
   ]
  },
  {
   "cell_type": "code",
   "execution_count": null,
   "id": "31ed004f-5fd2-4b52-a4cf-b09b2810effd",
   "metadata": {},
   "outputs": [],
   "source": [
    "print(profile)\n",
    "# ---à vérifier---"
   ]
  },
  {
   "cell_type": "markdown",
   "id": "7c500191-04ff-4893-a297-28721cb9c6ca",
   "metadata": {},
   "source": [
    "- Exporter un rapport de profil d'un pandas des données"
   ]
  },
  {
   "cell_type": "code",
   "execution_count": null,
   "id": "7f9f052b-9475-40f9-95fa-c8f2bab2486c",
   "metadata": {},
   "outputs": [],
   "source": [
    "profile.to_file('model_titanic.html')"
   ]
  },
  {
   "cell_type": "code",
   "execution_count": null,
   "id": "b9505b54-a67d-4fc6-a92e-f5d2fd324161",
   "metadata": {},
   "outputs": [],
   "source": [
    "profile.to_notebook_iframe()"
   ]
  },
  {
   "cell_type": "markdown",
   "id": "65bea738-7f3f-4f4f-b7dd-7b95f3d26bb6",
   "metadata": {},
   "source": [
    "# Graphique explication influence sexe dans mortalité"
   ]
  },
  {
   "cell_type": "code",
   "execution_count": null,
   "id": "59678406-27a2-4bc0-889a-f9eeb7e09b05",
   "metadata": {},
   "outputs": [],
   "source": [
    "import plotly.express as px\n",
    "\n",
    "female_train = df[df[\"Sex\"] == 'female']\n",
    "fig = px.scatter(x=female_train['Age'], y=female_train['Fare'], color=female_train['Survived'])\n",
    "fig.show()\n",
    "\n",
    "male_train = df[df[\"Sex\"] == 'male']\n",
    "fig = px.scatter(x=male_train['Age'], y=male_train['Fare'], color=male_train['Survived'])\n",
    "fig.show()"
   ]
  },
  {
   "cell_type": "code",
   "execution_count": null,
   "id": "7ad77243-53b9-4ea9-bd68-e84cebff3e05",
   "metadata": {},
   "outputs": [],
   "source": [
    "# En utilisant une fonction\n",
    "def graph_scatter_age(dd):\n",
    "\tfig = px.scatter(x=dd['Age'], y=dd['Fare'], color=dd['Survived'])\n",
    "\tfig.show()\n",
    "# graph_scatter_age(dd[dd[\"Sex\"] == 'female'])"
   ]
  },
  {
   "cell_type": "code",
   "execution_count": null,
   "id": "720d061a-a23e-4177-bfc4-78c91d5d8138",
   "metadata": {},
   "outputs": [],
   "source": [
    "df.plot.box()"
   ]
  },
  {
   "cell_type": "code",
   "execution_count": null,
   "id": "406a84bb-5dc7-46e9-9092-f8dec14535ca",
   "metadata": {},
   "outputs": [],
   "source": [
    "df.Fare.plot.box()"
   ]
  },
  {
   "cell_type": "code",
   "execution_count": null,
   "id": "d5052f61-a2d1-4c9f-b337-e043e2d5733f",
   "metadata": {},
   "outputs": [],
   "source": [
    "df.Fare.mean()"
   ]
  },
  {
   "cell_type": "code",
   "execution_count": null,
   "id": "250ce962-48d6-47fc-b9ff-78de7a02f08f",
   "metadata": {},
   "outputs": [],
   "source": [
    "from sklearn.linear_model import RidgeClassifier\n",
    "\n",
    "rc = RidgeClassifier()\n",
    "rc.fit(X=x_train, y=y_train)\n",
    "\n",
    "print_score(rc)"
   ]
  }
 ],
 "metadata": {
  "kernelspec": {
   "display_name": "Python 3 (ipykernel)",
   "language": "python",
   "name": "python3"
  },
  "language_info": {
   "codemirror_mode": {
    "name": "ipython",
    "version": 3
   },
   "file_extension": ".py",
   "mimetype": "text/x-python",
   "name": "python",
   "nbconvert_exporter": "python",
   "pygments_lexer": "ipython3",
   "version": "3.10.7"
  }
 },
 "nbformat": 4,
 "nbformat_minor": 5
}
