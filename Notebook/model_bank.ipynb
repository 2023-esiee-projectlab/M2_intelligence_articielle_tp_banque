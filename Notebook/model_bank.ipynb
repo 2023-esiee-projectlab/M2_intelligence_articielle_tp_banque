{
 "cells": [
  {
   "cell_type": "markdown",
   "id": "119a14cc-b0ec-4db0-9e14-cd9ab2e3cd76",
   "metadata": {},
   "source": [
    "# Model Banque"
   ]
  },
  {
   "cell_type": "markdown",
   "id": "ddc0f3e0-9a95-4822-a3d5-6c536d71f7b8",
   "metadata": {},
   "source": [
    "## 1 - Etapes \n",
    "\n",
    "- Importer / Définir\n",
    "- Pandas profiling\n",
    "- Signification\n",
    "- Identifier et corriger les valeurs nulles\n",
    "- Sélectionner\n",
    "- Encoder les valeurs catégorielles\n",
    "- Faire un modèle"
   ]
  },
  {
   "cell_type": "markdown",
   "id": "459b87a7-6544-4e4d-bce2-3eef0df78e03",
   "metadata": {},
   "source": [
    "### 2 - Réalisation\n",
    "\n",
    "#### 2.1 - Importations"
   ]
  },
  {
   "cell_type": "code",
   "execution_count": null,
   "id": "0df05662-7f09-4d1d-99c7-c3d98c044bda",
   "metadata": {},
   "outputs": [],
   "source": [
    "import numpy as np\n",
    "import pandas as pd\n",
    "import matplotlib.pyplot as plt\n",
    "import plotly.express as px\n",
    "from pandas_profiling import ProfileReport\n",
    "from sklearn.model_selection import train_test_split\n",
    "from sklearn.ensemble import RandomForestClassifier"
   ]
  },
  {
   "cell_type": "markdown",
   "id": "abf5294e-198b-4ff3-baaf-9d7754a196bb",
   "metadata": {},
   "source": [
    "#### 2.2 - Récupération des données"
   ]
  },
  {
   "cell_type": "code",
   "execution_count": null,
   "id": "16e63dee-b097-48ec-933f-902102fe5454",
   "metadata": {},
   "outputs": [],
   "source": [
    "df = pd.read_csv(\"datas/bank/bank-full.csv\")"
   ]
  },
  {
   "cell_type": "markdown",
   "id": "f41bee1d-f826-4d15-96e1-ef02bf369da2",
   "metadata": {},
   "source": [
    "#### 2.3 - Formatage des données"
   ]
  },
  {
   "cell_type": "code",
   "execution_count": null,
   "id": "f60dc706-958a-48f9-b1d3-c82d46865dec",
   "metadata": {},
   "outputs": [],
   "source": [
    "df['default'] = df['default'].map({'yes':1 ,'no':0}) \n",
    "df['loan'] = df['loan'].map({'yes':1 ,'no':0}) \n",
    "df['Target'] = df['Target'].map({'yes':1 ,'no':0}) \n",
    "df['housing'] = df['housing'].map({'yes':1 ,'no':0})\n",
    "df['marital'] = df['marital'].map({'single':0 ,'married':1,'divorced':2})\n",
    "df['education'] = df['education'].map({'unknown':0 ,'primary':1,'secondary':2,'tertiary':3})\n",
    "df['contact'] = df['contact'].map({'unknown':0 ,'cellular':1,'telephone':1})\n",
    "df['poutcome'] = df['poutcome'].map({'unknown':0, 'success':1,'failure':2,'other':3})\n",
    "df['month'] = df['month'].map({'jan':1, 'feb':2, 'mar':3, 'apr':4, 'may':5, 'jun':6,'jul':7,'aug':8,'sep':9, 'oct':10,'nov':11,'dec':12})\n",
    "\n",
    "\n",
    "df.drop([\"job\"], axis=1, inplace=True)\n",
    "\n",
    "df"
   ]
  },
  {
   "cell_type": "markdown",
   "id": "61529411-06e9-43cd-a106-569e27498103",
   "metadata": {},
   "source": [
    "#### 2.4 - Vérification des types de données"
   ]
  },
  {
   "cell_type": "code",
   "execution_count": null,
   "id": "201e51f1-1bea-4edb-9da1-86115f6bf535",
   "metadata": {},
   "outputs": [],
   "source": [
    "df.dtypes"
   ]
  },
  {
   "cell_type": "markdown",
   "id": "74cfdeea-b118-4b56-a88f-c0c9975a235b",
   "metadata": {},
   "source": [
    "#### 2.5 - Vérification des valeurs nulles"
   ]
  },
  {
   "cell_type": "code",
   "execution_count": null,
   "id": "8cc1f526-eea9-4cfb-8a0d-281aa98fe115",
   "metadata": {},
   "outputs": [],
   "source": [
    "df.isnull().sum()"
   ]
  },
  {
   "cell_type": "markdown",
   "id": "181a54be-d141-4431-b714-4eafe8f487ae",
   "metadata": {},
   "source": [
    "#### 2.6 - Séparation des données pour obtenir une 1er tableau"
   ]
  },
  {
   "cell_type": "code",
   "execution_count": null,
   "id": "25ee6045-be42-4139-92e4-dde23525567d",
   "metadata": {},
   "outputs": [],
   "source": [
    "dfClientData = df[['age','marital','education','default','balance','housing','loan','Target']]\n",
    "dfClientData"
   ]
  },
  {
   "cell_type": "markdown",
   "id": "11734fbe-2578-4122-81c0-4fa9acdf5656",
   "metadata": {},
   "source": [
    "#### 2.7 - Séparation des données pour obtenir une 2ème tableau"
   ]
  },
  {
   "cell_type": "code",
   "execution_count": null,
   "id": "28ce3a34-a38b-4b66-85cd-760018e6de39",
   "metadata": {},
   "outputs": [],
   "source": [
    "dfBankCampaignData = df[['contact','day','month','duration','campaign','pdays','previous','poutcome','Target']]\n",
    "dfBankCampaignData"
   ]
  },
  {
   "cell_type": "markdown",
   "id": "682ff133-a695-4f61-b658-d3374c62dfb1",
   "metadata": {},
   "source": [
    "#### 2.8 - **Premier modèle**"
   ]
  },
  {
   "cell_type": "markdown",
   "id": "bf44f185-8b06-46ce-9f0a-6caff3019db8",
   "metadata": {},
   "source": [
    "- préparation des variables nécessaires"
   ]
  },
  {
   "cell_type": "code",
   "execution_count": null,
   "id": "ca5f8905-3d4c-4ed0-9ea7-573a3e3d34c6",
   "metadata": {},
   "outputs": [],
   "source": [
    "y = dfClientData.Target\n",
    "x = dfClientData.drop(['Target'], axis = 1)\n",
    "\n",
    "x_train,x_test, y_train, y_test = train_test_split(x,y,test_size = .2, random_state = 42)"
   ]
  },
  {
   "cell_type": "markdown",
   "id": "bd32b173-2f20-4292-9b44-1cb012af0bf3",
   "metadata": {},
   "source": [
    "- RandomForestClassifier : méta estimateur qui adapte un certain nombre de classificateurs d'arbre de décision sur divers sous-échantillons de l'ensemble de données et utilise la moyenne pour améliorer la précision prédictive et contrôler le surajustement."
   ]
  },
  {
   "cell_type": "code",
   "execution_count": null,
   "id": "071f2dff-92e9-4410-9389-5de0ad7eeb6f",
   "metadata": {},
   "outputs": [],
   "source": [
    "rf = RandomForestClassifier(n_estimators = 100, random_state = 23, max_features = 2)"
   ]
  },
  {
   "cell_type": "markdown",
   "id": "016fefc2-f53d-45d6-b2c7-ae7f9b4fd276",
   "metadata": {},
   "source": [
    "- génération des valeurs du modèle"
   ]
  },
  {
   "cell_type": "code",
   "execution_count": null,
   "id": "33dbf5fb-362f-4c0e-b219-96cd1a6fac1f",
   "metadata": {},
   "outputs": [],
   "source": [
    "rf.fit(X=x_train, y=y_train)"
   ]
  },
  {
   "cell_type": "markdown",
   "id": "e1c269a1-3dba-487b-a031-612e705d0136",
   "metadata": {},
   "source": [
    "- Création d'un tableau de données :\n",
    "    *Chaque colonne elle prend en compte à 8% Pclass, 25% le Sex etc, ainsi c'est l'importance des données en entrer*"
   ]
  },
  {
   "cell_type": "code",
   "execution_count": null,
   "id": "bdf0d0d5-faff-401c-a9f9-383d074bf279",
   "metadata": {},
   "outputs": [],
   "source": [
    "pd.DataFrame(rf.feature_importances_*100,x_train.columns, columns=['Importance en %'])"
   ]
  },
  {
   "cell_type": "code",
   "execution_count": null,
   "id": "3e249387-4920-4931-b887-4137a515de6a",
   "metadata": {},
   "outputs": [],
   "source": [
    "def print_score(learn_obj, x_train=x_train, y_train=y_train, x_test=x_test, y_test=y_test):\n",
    "\tprint(\"Score train : \", learn_obj.score(x_train, y_train,)*100, \"%\")\n",
    "\tprint(\"Score test : \", learn_obj.score(x_test, y_test,)*100, \"%\")\n",
    "print_score(rf)"
   ]
  },
  {
   "cell_type": "markdown",
   "id": "9fbd2b2f-48ce-46cc-bd7e-ffb21b2890dd",
   "metadata": {},
   "source": [
    "#### 2.9 - **Deuxième modèle**"
   ]
  },
  {
   "cell_type": "code",
   "execution_count": null,
   "id": "3a8ec29a-bd3f-4321-8e2f-13a3b4d376df",
   "metadata": {},
   "outputs": [],
   "source": [
    "y = dfBankCampaignData.Target\n",
    "x = dfBankCampaignData.drop(['Target'], axis = 1)\n",
    "\n",
    "x_train,x_test, y_train, y_test = train_test_split(x,y,test_size = .2, random_state = 42)"
   ]
  },
  {
   "cell_type": "code",
   "execution_count": null,
   "id": "8e234066-dc09-42f4-a516-52d3ccc3d1ec",
   "metadata": {},
   "outputs": [],
   "source": [
    "rf = RandomForestClassifier(n_estimators = 100, random_state = 23, max_features = 2)"
   ]
  },
  {
   "cell_type": "code",
   "execution_count": null,
   "id": "3d8dac43-ce8a-4160-8d2f-a2859668ca3c",
   "metadata": {},
   "outputs": [],
   "source": [
    "rf.fit(X=x_train, y=y_train)"
   ]
  },
  {
   "cell_type": "code",
   "execution_count": null,
   "id": "db191d99-0396-403a-bcbd-dda84334a27e",
   "metadata": {},
   "outputs": [],
   "source": [
    "pd.DataFrame(rf.feature_importances_*100,x_train.columns, columns=['Importance en %'])"
   ]
  },
  {
   "cell_type": "code",
   "execution_count": null,
   "id": "7762b1b0-a53c-4799-afcc-0c48c16b197e",
   "metadata": {},
   "outputs": [],
   "source": [
    "def print_score(learn_obj, x_train=x_train, y_train=y_train, x_test=x_test, y_test=y_test):\n",
    "\tprint(\"Score train : \", learn_obj.score(x_train, y_train,)*100, \"%\")\n",
    "\tprint(\"Score test : \", learn_obj.score(x_test, y_test,)*100, \"%\")\n",
    "print_score(rf)"
   ]
  },
  {
   "cell_type": "markdown",
   "id": "744264b9-9a79-418f-b7e6-2c3fb14a8fa0",
   "metadata": {},
   "source": [
    "#### 3.0 - Création de graphiques"
   ]
  },
  {
   "cell_type": "markdown",
   "id": "696d8a4e-e374-4183-891f-72d76218648a",
   "metadata": {},
   "source": [
    "##### 3.0.1 - Rapport de données"
   ]
  },
  {
   "cell_type": "markdown",
   "id": "3a0bd694-47b7-4f27-8f0d-de6a24ea572b",
   "metadata": {},
   "source": [
    "- Création d'un rapport de profil permettant de fournir un portefeuille graphique complet."
   ]
  },
  {
   "cell_type": "code",
   "execution_count": null,
   "id": "29e36bc9-f67a-4588-ac46-186c8f672fb1",
   "metadata": {},
   "outputs": [],
   "source": [
    "profileDfClientData = ProfileReport(dfClientData)\n",
    "profileDfCampaignData = ProfileReport(dfBankCampaignData)"
   ]
  },
  {
   "cell_type": "code",
   "execution_count": null,
   "id": "c142a90b-8531-441c-8cf5-8067e8f28bc1",
   "metadata": {},
   "outputs": [],
   "source": [
    "profileDfClientData.to_file('model_bank_clients.html')\n",
    "profileDfCampaignData.to_file('model_bank_campaign.html')"
   ]
  },
  {
   "cell_type": "code",
   "execution_count": null,
   "id": "50f6137c-d444-4cce-b710-0678cfa10e44",
   "metadata": {},
   "outputs": [],
   "source": [
    "##### 3.0.2 - Graphiques de données"
   ]
  },
  {
   "cell_type": "code",
   "execution_count": null,
   "id": "7020241c-6810-44d3-b1f3-6678b3e78646",
   "metadata": {},
   "outputs": [],
   "source": [
    "fig = px.histogram(dfClientData.age, x=\"age\")\n",
    "fig.show()\n",
    "\n",
    "fig = px.histogram(dfBankCampaignData.day, x=\"day\")\n",
    "fig.show()"
   ]
  },
  {
   "cell_type": "code",
   "execution_count": null,
   "id": "7ac5c4cb-092a-4f8d-8d2e-566d9f514043",
   "metadata": {},
   "outputs": [],
   "source": [
    "fig = px.scatter(x=dfClientData['age'], y=dfClientData['balance'], color=dfClientData['balance'])\n",
    "fig.show()\n",
    "\n",
    "fig = px.scatter(x=dfBankCampaignData['day'], y=dfBankCampaignData['duration'], color=dfBankCampaignData['duration'])\n",
    "fig.show()"
   ]
  },
  {
   "cell_type": "code",
   "execution_count": null,
   "id": "400fbaa5-3c26-4d0a-8a47-37481dab163c",
   "metadata": {},
   "outputs": [],
   "source": []
  }
 ],
 "metadata": {
  "kernelspec": {
   "display_name": "Python 3 (ipykernel)",
   "language": "python",
   "name": "python3"
  },
  "language_info": {
   "codemirror_mode": {
    "name": "ipython",
    "version": 3
   },
   "file_extension": ".py",
   "mimetype": "text/x-python",
   "name": "python",
   "nbconvert_exporter": "python",
   "pygments_lexer": "ipython3",
   "version": "3.10.7"
  }
 },
 "nbformat": 4,
 "nbformat_minor": 5
}
