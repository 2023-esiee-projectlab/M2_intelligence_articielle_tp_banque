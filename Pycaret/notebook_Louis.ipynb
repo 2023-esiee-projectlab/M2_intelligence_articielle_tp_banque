{
 "cells": [
  {
   "cell_type": "code",
   "execution_count": 1,
   "id": "ff979188-d335-4edf-ae1f-f195cbcd5afb",
   "metadata": {},
   "outputs": [],
   "source": [
    "import pandas as pd\n",
    "import missingno as ms\n",
    "import matplotlib.pyplot as plt\n",
    "import seaborn as sb\n",
    "\n",
    "\n",
    "from sklearn.ensemble import GradientBoostingClassifier\n",
    "from sklearn.model_selection import train_test_split\n",
    "from sklearn.naive_bayes import GaussianNB"
   ]
  },
  {
   "cell_type": "code",
   "execution_count": 2,
   "id": "55f37610-af95-46cc-890e-913301308453",
   "metadata": {},
   "outputs": [],
   "source": [
    "df = pd.read_csv(\"datas/bank/bank-full.csv\")"
   ]
  },
  {
   "cell_type": "code",
   "execution_count": 3,
   "id": "b4d45067-d7a7-44d9-98af-deb1d0a92494",
   "metadata": {},
   "outputs": [],
   "source": [
    "train, test = train_test_split(df, test_size=0.2)\n",
    "\n",
    "X_train = pd.get_dummies(train.drop(['Target'], axis=1), drop_first=True)\n",
    "X_test = pd.get_dummies(test.drop(['Target'], axis=1), drop_first=True)"
   ]
  },
  {
   "cell_type": "code",
   "execution_count": 4,
   "id": "21508d0f-c774-4284-884b-dfceb37abef8",
   "metadata": {},
   "outputs": [],
   "source": [
    "Y_train = train['Target']\n",
    "\n",
    "model = GradientBoostingClassifier(learning_rate=0.5)\n",
    "model.fit(X_train, Y_train)\n",
    "predictions = model.predict(X_test)"
   ]
  },
  {
   "cell_type": "code",
   "execution_count": 5,
   "id": "eb607efa-7f33-4cd7-8b59-83d9c5edb25b",
   "metadata": {},
   "outputs": [
    {
     "name": "stdout",
     "output_type": "stream",
     "text": [
      "<class 'pandas.core.frame.DataFrame'>\n",
      "Int64Index: 9043 entries, 29586 to 35537\n",
      "Data columns (total 5 columns):\n",
      " #   Column     Non-Null Count  Dtype \n",
      "---  ------     --------------  ----- \n",
      " 0   age        9043 non-null   int64 \n",
      " 1   balance    9043 non-null   int64 \n",
      " 2   education  9043 non-null   object\n",
      " 3   job        9043 non-null   object\n",
      " 4   Target     9043 non-null   object\n",
      "dtypes: int64(2), object(3)\n",
      "memory usage: 423.9+ KB\n"
     ]
    }
   ],
   "source": [
    "predictions_df = pd.DataFrame({'age': test[\"age\"],'balance': test[\"balance\"], 'education': test[\"education\"],'job': test[\"job\"],'Target' : predictions})\n",
    "predictions_df.info()"
   ]
  },
  {
   "cell_type": "code",
   "execution_count": 6,
   "id": "ee6078dc-cbc8-41d8-9226-698bfbb4694c",
   "metadata": {},
   "outputs": [
    {
     "ename": "NameError",
     "evalue": "name 'corrDiagram' is not defined",
     "output_type": "error",
     "traceback": [
      "\u001b[1;31m---------------------------------------------------------------------------\u001b[0m",
      "\u001b[1;31mNameError\u001b[0m                                 Traceback (most recent call last)",
      "Cell \u001b[1;32mIn[6], line 1\u001b[0m\n\u001b[1;32m----> 1\u001b[0m \u001b[43mcorrDiagram\u001b[49m([\u001b[38;5;124m\"\u001b[39m\u001b[38;5;124mbalance\u001b[39m\u001b[38;5;124m\"\u001b[39m, \u001b[38;5;124m\"\u001b[39m\u001b[38;5;124mjob\u001b[39m\u001b[38;5;124m\"\u001b[39m, \u001b[38;5;124m\"\u001b[39m\u001b[38;5;124mbalance\u001b[39m\u001b[38;5;124m\"\u001b[39m], \u001b[38;5;124m\"\u001b[39m\u001b[38;5;124mage\u001b[39m\u001b[38;5;124m\"\u001b[39m, predictions_df)\n",
      "\u001b[1;31mNameError\u001b[0m: name 'corrDiagram' is not defined"
     ]
    }
   ],
   "source": [
    "corrDiagram([\"balance\", \"job\", \"balance\"], \"age\", predictions_df)"
   ]
  },
  {
   "cell_type": "code",
   "execution_count": null,
   "id": "11110924-8e83-4590-af3d-d2dc5bcf0d4a",
   "metadata": {},
   "outputs": [],
   "source": []
  }
 ],
 "metadata": {
  "kernelspec": {
   "display_name": "Python 3 (ipykernel)",
   "language": "python",
   "name": "python3"
  },
  "language_info": {
   "codemirror_mode": {
    "name": "ipython",
    "version": 3
   },
   "file_extension": ".py",
   "mimetype": "text/x-python",
   "name": "python",
   "nbconvert_exporter": "python",
   "pygments_lexer": "ipython3",
   "version": "3.10.6"
  }
 },
 "nbformat": 4,
 "nbformat_minor": 5
}
